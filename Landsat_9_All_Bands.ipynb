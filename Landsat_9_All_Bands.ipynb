{
  "nbformat": 4,
  "nbformat_minor": 0,
  "metadata": {
    "colab": {
      "provenance": [],
      "authorship_tag": "ABX9TyPUzLkjxFYiEAuzzG4WfIke",
      "include_colab_link": true
    },
    "kernelspec": {
      "name": "python3",
      "display_name": "Python 3"
    },
    "language_info": {
      "name": "python"
    }
  },
  "cells": [
    {
      "cell_type": "markdown",
      "metadata": {
        "id": "view-in-github",
        "colab_type": "text"
      },
      "source": [
        "<a href=\"https://colab.research.google.com/github/shobhits07/docs/blob/main/Landsat_9_All_Bands.ipynb\" target=\"_parent\"><img src=\"https://colab.research.google.com/assets/colab-badge.svg\" alt=\"Open In Colab\"/></a>"
      ]
    },
    {
      "cell_type": "code",
      "execution_count": null,
      "metadata": {
        "id": "C9oHU16gkIF4"
      },
      "outputs": [],
      "source": [
        "#!pip install geemap"
      ]
    },
    {
      "cell_type": "code",
      "source": [
        "import geemap\n",
        "import ee"
      ],
      "metadata": {
        "id": "4kGKKc0WkULM"
      },
      "execution_count": 2,
      "outputs": []
    },
    {
      "cell_type": "code",
      "source": [
        "# Authenticate and initialize\n",
        "ee.Authenticate()\n",
        "ee.Initialize()"
      ],
      "metadata": {
        "id": "snI21W-1kX98"
      },
      "execution_count": null,
      "outputs": []
    },
    {
      "cell_type": "code",
      "source": [
        "# Display the map\n",
        "Map=geemap.Map()\n",
        "Map"
      ],
      "metadata": {
        "id": "E09M-FUskaw_"
      },
      "execution_count": null,
      "outputs": []
    },
    {
      "cell_type": "code",
      "source": [
        "# Define the area of interest\n",
        "roi_rect = ee.FeatureCollection('projects/ee-shobhit007/assets/MP_Districts').geometry()\n",
        "\n",
        "# Load the Landsat 9 Image Collection for Tier 1 Level 2 data\n",
        "dataset = ee.ImageCollection('LANDSAT/LC09/C02/T1_L2') \\\n",
        "    .filterDate('2022-07-01', '2022-12-01') \\\n",
        "    .filterBounds(roi_rect)  # Filter by Area of Interest\n",
        "\n",
        "# Applies scaling factors to the image bands\n",
        "def applyScaleFactors(image):\n",
        "    # Scale and offset for optical bands\n",
        "    opticalBands = image.select('SR_B.').multiply(0.0000275).add(-0.2)\n",
        "\n",
        "    # Scale and offset for thermal bands\n",
        "    thermalBands = image.select('ST_B.*').multiply(0.00341802).add(149.0)\n",
        "\n",
        "    # Add scaled bands to the image\n",
        "    return image.addBands(opticalBands, None, True) \\\n",
        "                .addBands(thermalBands, None, True)\n",
        "\n",
        "# Apply the scaling factors to the entire dataset\n",
        "dataset = dataset.map(applyScaleFactors)\n",
        "\n",
        "# Clip the dataset by the AOI\n",
        "clippedDataset = dataset.map(lambda image: image.clip(roi_rect))\n",
        "\n",
        "# Reduce the clipped dataset to a single image (e.g., median)\n",
        "compositeImage = clippedDataset.median()\n",
        "\n",
        "# Visualization parameters for the True Color image\n",
        "vis_params = {\n",
        "    'bands': ['SR_B4', 'SR_B3', 'SR_B2'],  # Bands for RGB-Natural color visualization\n",
        "    'min': 0.0,  # Minimum pixel value for visualization\n",
        "    'max': 0.3,  # Maximum pixel value for visualization\n",
        "}\n",
        "\n",
        "# Center the map on the area of interest\n",
        "Map.centerObject(roi_rect)\n",
        "\n",
        "# Add the AOI boundary to the map\n",
        "Map.addLayer(roi_rect, {'color': 'red'}, 'AOI Boundary')\n",
        "\n",
        "# Add the clipped dataset to the map with the specified visualization parameters\n",
        "Map.addLayer(compositeImage, vis_params, 'STD False Color (543)')\n",
        "\n",
        "Map\n"
      ],
      "metadata": {
        "id": "QbY9WDKXlO6q"
      },
      "execution_count": null,
      "outputs": []
    },
    {
      "cell_type": "code",
      "source": [
        "# Export the map to Google Drive\n",
        "geemap.ee_export_image_to_drive(\n",
        "    image=compositeImage,\n",
        "    description='Landsat_9_export_to_drive',\n",
        "    folder='Landsat_9_exports',\n",
        "    region=roi_rect,\n",
        "    scale=300\n",
        ")"
      ],
      "metadata": {
        "id": "vYBj_wVRnDpg"
      },
      "execution_count": 44,
      "outputs": []
    }
  ]
}